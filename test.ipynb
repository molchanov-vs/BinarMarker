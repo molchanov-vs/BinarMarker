{
 "cells": [
  {
   "cell_type": "code",
   "execution_count": 2,
   "metadata": {},
   "outputs": [],
   "source": [
    "import json"
   ]
  },
  {
   "cell_type": "code",
   "execution_count": 3,
   "metadata": {},
   "outputs": [],
   "source": [
    "def read_json(file_path):\n",
    "    # Open the JSON file in read mode\n",
    "    with open(file_path, \"r\") as json_file:\n",
    "        # Load the JSON data from the file\n",
    "        data = json.load(json_file)\n",
    "    \n",
    "    return data"
   ]
  },
  {
   "cell_type": "code",
   "execution_count": 4,
   "metadata": {},
   "outputs": [
    {
     "data": {
      "text/plain": [
       "{'000000.jpg': 1,\n",
       " '000001.jpg': 1,\n",
       " '000002.jpg': 1,\n",
       " '000003.jpg': 0,\n",
       " '000004.jpg': 0,\n",
       " '000005.jpg': 0,\n",
       " '000006.jpg': 1,\n",
       " '000007.jpg': 0,\n",
       " '000008.jpg': 1,\n",
       " '000009.jpg': 1,\n",
       " '000010.jpg': 1,\n",
       " '000011.jpg': 1,\n",
       " '000012.jpg': 1,\n",
       " '000013.jpg': 0,\n",
       " '000014.jpg': 1,\n",
       " '000015.jpg': 0,\n",
       " '000016.jpg': 1,\n",
       " '000017.jpg': 1,\n",
       " '000018.jpg': 1,\n",
       " '000019.jpg': 0,\n",
       " '000020.jpg': 1,\n",
       " '000021.jpg': 1,\n",
       " '000022.jpg': 0,\n",
       " '000023.jpg': 1,\n",
       " '000024.jpg': 1,\n",
       " '000025.jpg': 0,\n",
       " '000026.jpg': 0,\n",
       " '000027.jpg': 1,\n",
       " '000028.jpg': 1,\n",
       " '000029.jpg': 1,\n",
       " '000030.jpg': 1,\n",
       " '000031.jpg': 1,\n",
       " '000032.jpg': 0,\n",
       " '000033.jpg': 0,\n",
       " '000034.jpg': 1,\n",
       " '000035.jpg': 1,\n",
       " '000036.jpg': 0,\n",
       " '000037.jpg': 0,\n",
       " '000038.jpg': 0,\n",
       " '000039.jpg': 0,\n",
       " '000040.jpg': 1,\n",
       " '000041.jpg': 0,\n",
       " '000042.jpg': 1,\n",
       " '000043.jpg': 0,\n",
       " '000044.jpg': 1,\n",
       " '000045.jpg': 0,\n",
       " '000046.jpg': 0,\n",
       " '000047.jpg': 0,\n",
       " '000048.jpg': 0,\n",
       " '000049.jpg': 0,\n",
       " '000050.jpg': 0,\n",
       " '000051.jpg': 1}"
      ]
     },
     "execution_count": 4,
     "metadata": {},
     "output_type": "execute_result"
    }
   ],
   "source": [
    "# Specify the file path of the JSON file\n",
    "file_path = \"/Users/molchanov/dev/eye_labelling/json/2023-06-23.json\"\n",
    "read_json(file_path)"
   ]
  },
  {
   "cell_type": "code",
   "execution_count": null,
   "metadata": {},
   "outputs": [],
   "source": []
  }
 ],
 "metadata": {
  "kernelspec": {
   "display_name": "yandex",
   "language": "python",
   "name": "python3"
  },
  "language_info": {
   "codemirror_mode": {
    "name": "ipython",
    "version": 3
   },
   "file_extension": ".py",
   "mimetype": "text/x-python",
   "name": "python",
   "nbconvert_exporter": "python",
   "pygments_lexer": "ipython3",
   "version": "3.11.3"
  },
  "orig_nbformat": 4
 },
 "nbformat": 4,
 "nbformat_minor": 2
}
