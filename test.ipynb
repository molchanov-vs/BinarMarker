{
 "cells": [
  {
   "cell_type": "code",
   "execution_count": 26,
   "metadata": {},
   "outputs": [],
   "source": [
    "import json\n",
    "import os\n",
    "import numpy as np\n",
    "from utils import *"
   ]
  },
  {
   "cell_type": "code",
   "execution_count": 2,
   "metadata": {},
   "outputs": [],
   "source": [
    "def read_json(file_path):\n",
    "    # Open the JSON file in read mode\n",
    "    with open(file_path, \"r\") as json_file:\n",
    "        # Load the JSON data from the file\n",
    "        data = json.load(json_file)\n",
    "    \n",
    "    return data"
   ]
  },
  {
   "cell_type": "code",
   "execution_count": 5,
   "metadata": {},
   "outputs": [
    {
     "data": {
      "text/plain": [
       "['2023-06-24 10:33:10.378743.json',\n",
       " '2023-06-24 10:38:26.428399.json',\n",
       " '2023-06-24 11:30:27.589294.json',\n",
       " '2023-06-24 11:38:40.443009.json',\n",
       " '2023-06-24 12:49:48.875925.json',\n",
       " '2023-06-24 13:00:00.358230.json',\n",
       " '2023-06-24 13:12:04.003671.json',\n",
       " '2023-06-24 19:24:40.472323.json',\n",
       " '2023-06-24 19:39:51.562807.json',\n",
       " '2023-06-25 15:27:06.732614.json',\n",
       " '2023-06-25 19:05:49.334169.json']"
      ]
     },
     "execution_count": 5,
     "metadata": {},
     "output_type": "execute_result"
    }
   ],
   "source": [
    "jsons = sorted(os.listdir('/Users/molchanov/dev/eye_labelling/json'))\n",
    "\n",
    "res = {}\n",
    "path = '/Users/molchanov/dev/eye_labelling/json'\n",
    "for js in jsons:\n",
    "    res.update(read_json(f\"{path}/{js}\"))"
   ]
  },
  {
   "cell_type": "code",
   "execution_count": 25,
   "metadata": {},
   "outputs": [
    {
     "data": {
      "text/plain": [
       "(array([0, 1]), array([1531, 1394]))"
      ]
     },
     "execution_count": 25,
     "metadata": {},
     "output_type": "execute_result"
    }
   ],
   "source": [
    "np.unique(list(res.values()), return_counts=True)"
   ]
  },
  {
   "cell_type": "code",
   "execution_count": 28,
   "metadata": {},
   "outputs": [],
   "source": [
    "save_json(res)"
   ]
  },
  {
   "cell_type": "code",
   "execution_count": null,
   "metadata": {},
   "outputs": [],
   "source": []
  }
 ],
 "metadata": {
  "kernelspec": {
   "display_name": "yandex",
   "language": "python",
   "name": "python3"
  },
  "language_info": {
   "codemirror_mode": {
    "name": "ipython",
    "version": 3
   },
   "file_extension": ".py",
   "mimetype": "text/x-python",
   "name": "python",
   "nbconvert_exporter": "python",
   "pygments_lexer": "ipython3",
   "version": "3.11.3"
  },
  "orig_nbformat": 4
 },
 "nbformat": 4,
 "nbformat_minor": 2
}
